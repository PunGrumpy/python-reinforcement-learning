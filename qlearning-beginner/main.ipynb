{
 "cells": [
  {
   "cell_type": "code",
   "execution_count": 49,
   "metadata": {},
   "outputs": [],
   "source": [
    "# Import necessary libraries\n",
    "import gym\n",
    "import random\n",
    "import imageio\n",
    "import numpy as np\n",
    "from tqdm import trange"
   ]
  },
  {
   "cell_type": "code",
   "execution_count": 50,
   "metadata": {},
   "outputs": [],
   "source": [
    "def initialize_q_table(env):\n",
    "    \"\"\"\n",
    "    สร้าง Q-table ที่มีขนาดเท่ากับ (จำนวนสถานะ, จำนวน action)\n",
    "    \"\"\"\n",
    "    return np.zeros((env.observation_space.n, env.action_space.n))"
   ]
  },
  {
   "cell_type": "code",
   "execution_count": 51,
   "metadata": {},
   "outputs": [],
   "source": [
    "def select_action(env, q_table, state, epsilon): # epsilon_greedy_policy\n",
    "    \"\"\"\n",
    "    สร้าง action จาก Q-table โดยมีความน่าจะเป็น epsilon ที่จะสุ่ม action และ (1 - epsilon) ที่จะเลือก action ที่มีค่า Q-value มากที่สุด\n",
    "    \"\"\"\n",
    "    if random.uniform(0, 1) < epsilon:\n",
    "        return env.action_space.sample() # Explore action space\n",
    "    else:\n",
    "        return np.argmax(q_table[state]) # Exploit learned values"
   ]
  },
  {
   "cell_type": "code",
   "execution_count": 52,
   "metadata": {},
   "outputs": [],
   "source": [
    "def update_q_table(q_table, state, action, reward, next_state, alpha, gamma):\n",
    "    \"\"\"\n",
    "    อัพเดทค่า Q-value ตามสมการ Bellman\n",
    "    \"\"\"\n",
    "    q_table[state, action] = q_table[state, action] + alpha * (reward + gamma * np.max(q_table[next_state]) - q_table[state, action])"
   ]
  },
  {
   "cell_type": "code",
   "execution_count": 53,
   "metadata": {},
   "outputs": [],
   "source": [
    "def train(env, q_table, num_episodes, max_steps, alpha, gamma, epsilon):\n",
    "    \"\"\"\n",
    "    ฝึก Q-table โดยใช้วิธี Q-learning และใช้ epsilon-greedy policy เพื่อสร้าง action จากนั้นอัพเดทค่า Q-value ตามสมการ Bellman\n",
    "    \"\"\"\n",
    "    for episode in trange(num_episodes):\n",
    "        state = env.reset()\n",
    "        for step in range(max_steps):\n",
    "            action = select_action(env, q_table, state, epsilon)\n",
    "            next_state, reward, done, _ = env.step(action)\n",
    "            update_q_table(q_table, state, action, reward, next_state, alpha, gamma)\n",
    "            state = next_state\n",
    "            if done:\n",
    "                break\n",
    "    return q_table"
   ]
  },
  {
   "cell_type": "code",
   "execution_count": 54,
   "metadata": {},
   "outputs": [],
   "source": [
    "def evaluate_agent(env, q_table, num_episodes, max_steps):\n",
    "    \"\"\"\n",
    "    ทดสอบความสามารถของ agent โดยใช้ Q-table ที่ได้จากการฝึก\n",
    "    \"\"\"\n",
    "    frames = []\n",
    "    for episode in range(num_episodes):\n",
    "        state = env.reset()\n",
    "        for step in range(max_steps):\n",
    "            action = np.argmax(q_table[state])\n",
    "            state, _, done, _ = env.step(action)\n",
    "            frames.append(env.render(mode='rgb_array'))\n",
    "            if done:\n",
    "                break\n",
    "    return frames"
   ]
  },
  {
   "cell_type": "code",
   "execution_count": 55,
   "metadata": {},
   "outputs": [],
   "source": [
    "env = gym.make('FrozenLake-v1', map_name='4x4', is_slippery=False)\n",
    "state_space = env.observation_space.n\n",
    "action_space = env.action_space.n\n",
    "\n",
    "# Training parameters\n",
    "num_episodes = 10000\n",
    "\n",
    "# Evaluation parameters\n",
    "num_eval_episodes = 100\n",
    "\n",
    "# Environment parameters\n",
    "max_steps = 99 # step มีไว้เพื่อป้องกันการวนลูปไปเรื่อยๆ\n",
    "discount_rate = 0.95 # gamma\n",
    "learning_rate = 0.8 # alpha\n",
    "eval_seed = [] # ใช้สำหรับเก็บผลลัพธ์ของการทดสอบโดยใช้ seed ที่แตกต่างกัน\n",
    "\n",
    "# Exploration parameters\n",
    "max_epsilon = 1.0\n",
    "min_epsilon = 0.05 # เพื่อป้องกันการสุ่ม action ที่มีความน่าจะเป็นมากเกินไป\n",
    "decay_rate = 0.0005 # ค่าที่ใช้ในการลดความน่าจะเป็นของการสุ่ม action"
   ]
  },
  {
   "cell_type": "code",
   "execution_count": 56,
   "metadata": {},
   "outputs": [
    {
     "name": "stderr",
     "output_type": "stream",
     "text": [
      "100%|██████████| 10000/10000 [00:00<00:00, 14996.05it/s]\n"
     ]
    },
    {
     "name": "stdout",
     "output_type": "stream",
     "text": [
      "Q-table:\n",
      "[[0.73509189 0.77378094 0.77378094 0.73509189]\n",
      " [0.73509189 0.         0.81450625 0.77378094]\n",
      " [0.77378094 0.857375   0.77378094 0.81450625]\n",
      " [0.81450625 0.         0.77378094 0.77378094]\n",
      " [0.77378094 0.81450625 0.         0.73509189]\n",
      " [0.         0.         0.         0.        ]\n",
      " [0.         0.9025     0.         0.81450625]\n",
      " [0.         0.         0.         0.        ]\n",
      " [0.81450625 0.         0.857375   0.77378094]\n",
      " [0.81450625 0.9025     0.9025     0.        ]\n",
      " [0.857375   0.95       0.         0.857375  ]\n",
      " [0.         0.         0.         0.        ]\n",
      " [0.         0.         0.         0.        ]\n",
      " [0.         0.9025     0.95       0.857375  ]\n",
      " [0.9025     0.95       1.         0.9025    ]\n",
      " [0.         0.         0.         0.        ]]\n"
     ]
    }
   ],
   "source": [
    "# Initialize Q-table\n",
    "q_table = initialize_q_table(env)\n",
    "\n",
    "# Training\n",
    "q_table = train(env, q_table, num_episodes, max_steps, learning_rate, discount_rate, max_epsilon)\n",
    "\n",
    "# Show Q-table\n",
    "print(f\"Q-table:\\n{q_table}\")\n",
    "\n",
    "# Evaluation\n",
    "frames = evaluate_agent(env, q_table, num_eval_episodes, max_steps)"
   ]
  },
  {
   "cell_type": "code",
   "execution_count": null,
   "metadata": {},
   "outputs": [],
   "source": [
    "# Save gif\n",
    "imageio.mimsave('frozen_lake.gif', frames, duration=720)\n",
    "\n",
    "# Show gif\n",
    "from IPython.display import HTML\n",
    "HTML('<img src=\"frozen_lake.gif\">')"
   ]
  }
 ],
 "metadata": {
  "kernelspec": {
   "display_name": ".venv",
   "language": "python",
   "name": "python3"
  },
  "language_info": {
   "codemirror_mode": {
    "name": "ipython",
    "version": 3
   },
   "file_extension": ".py",
   "mimetype": "text/x-python",
   "name": "python",
   "nbconvert_exporter": "python",
   "pygments_lexer": "ipython3",
   "version": "3.11.4"
  },
  "orig_nbformat": 4
 },
 "nbformat": 4,
 "nbformat_minor": 2
}
